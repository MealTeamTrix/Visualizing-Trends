version https://git-lfs.github.com/spec/v1
oid sha256:147f59c3dc8525652ae8e552c342225025952a300dac4a7ff2dcaaaa717ddaf6
size 14534023
